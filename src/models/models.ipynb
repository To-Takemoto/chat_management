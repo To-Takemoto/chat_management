{
 "cells": [
  {
   "cell_type": "code",
   "execution_count": 1,
   "metadata": {},
   "outputs": [],
   "source": [
    "import json\n",
    "import os\n",
    "import sys\n",
    "\n",
    "current_dir = os.path.dirname(os.path.abspath('__file__'))\n",
    "src_dir = os.path.join(current_dir, '..', '..', 'src')\n",
    "sys.path.append(src_dir)\n",
    "\n",
    "from database import DB_utils\n",
    "\n",
    "def load_json_as_dict(path):\n",
    "    abs_path = f\"/Users/takemoto.t/Personal/chat_management/{path}\"\n",
    "    with open(abs_path, 'r', encoding='utf-8') as file:\n",
    "        # JSONファイルの内容を辞書型に変換して読み込む\n",
    "        data = json.load(file)\n",
    "    \n",
    "    return data\n",
    "\n",
    "db_handle = DB_utils.DBHandlerAd(\"/Users/takemoto.t/Personal/chat_management/data/app.db\")\n",
    "\n",
    "def llm_table():\n",
    "    db_handle.create_table(load_json_as_dict(\"config/db_schema/llm_messages.json\"))\n",
    "\n",
    "def branch_table():\n",
    "    db_handle.create_table(load_json_as_dict(\"config/db_schema/branches.json\"))\n",
    "\n",
    "def system_table():\n",
    "    db_handle.create_table(load_json_as_dict(\"config/db_schema/system_messages.json\"))\n",
    "\n",
    "def user_table():\n",
    "    db_handle.create_table(load_json_as_dict(\"config/db_schema/user_messages.json\"))"
   ]
  },
  {
   "cell_type": "code",
   "execution_count": 2,
   "metadata": {},
   "outputs": [],
   "source": [
    "llm_table()"
   ]
  },
  {
   "cell_type": "code",
   "execution_count": 3,
   "metadata": {},
   "outputs": [],
   "source": [
    "user_table()"
   ]
  },
  {
   "cell_type": "code",
   "execution_count": 7,
   "metadata": {},
   "outputs": [],
   "source": [
    "system_table()"
   ]
  },
  {
   "cell_type": "code",
   "execution_count": 9,
   "metadata": {},
   "outputs": [],
   "source": [
    "branch_table()"
   ]
  },
  {
   "cell_type": "code",
   "execution_count": 8,
   "metadata": {},
   "outputs": [],
   "source": [
    "db_handle.drop_table(\"branches\")"
   ]
  }
 ],
 "metadata": {
  "kernelspec": {
   "display_name": ".venv",
   "language": "python",
   "name": "python3"
  },
  "language_info": {
   "codemirror_mode": {
    "name": "ipython",
    "version": 3
   },
   "file_extension": ".py",
   "mimetype": "text/x-python",
   "name": "python",
   "nbconvert_exporter": "python",
   "pygments_lexer": "ipython3",
   "version": "3.12.2"
  }
 },
 "nbformat": 4,
 "nbformat_minor": 2
}
